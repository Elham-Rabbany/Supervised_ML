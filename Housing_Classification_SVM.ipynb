{
  "cells": [
    {
      "cell_type": "markdown",
      "metadata": {
        "id": "t8tBn78EmfT3"
      },
      "source": [
        "## Housing project_Classification\n",
        " "
      ]
    },
    {
      "cell_type": "markdown",
      "metadata": {},
      "source": [
        "## 1. Preprocessing Pipeline"
      ]
    },
    {
      "cell_type": "code",
      "execution_count": 1,
      "metadata": {},
      "outputs": [],
      "source": [
        "import pandas as pd\n",
        "from sklearn.svm import SVC\n",
        "from sklearn.linear_model import LogisticRegression\n",
        "from sklearn.model_selection import train_test_split\n",
        "from sklearn.impute import SimpleImputer\n",
        "from sklearn.tree import DecisionTreeClassifier\n",
        "from sklearn.metrics import accuracy_score\n",
        "from sklearn.pipeline import make_pipeline\n",
        "from sklearn.preprocessing import OneHotEncoder\n",
        "from sklearn.compose import ColumnTransformer, make_column_transformer\n",
        "from sklearn.preprocessing import OrdinalEncoder\n",
        "from sklearn import set_config\n",
        "from sklearn.model_selection import GridSearchCV\n",
        "import pandas as pd\n",
        "from sklearn.neighbors import KNeighborsClassifier\n",
        "\n",
        "\n",
        "path = r\"C:\\Users\\Aida\\OneDrive\\Documents\\Bootcamp_WBS\\Primer\\Python\\WBS_DATA\\8_SUP_ML\\Data\\housing_iteration_5_classification.csv\"\n",
        "data = pd.read_csv(path)\n",
        "\n",
        "data = data.set_index('Id')\n",
        "data \n",
        "\n",
        "# X: All columns except 'Expensive' (features)\n",
        "X = data.drop(columns=['Expensive'])\n",
        "\n",
        "# y: The 'Expensive' column (target)\n",
        "y = data['Expensive']\n",
        "\n",
        "# data splitting\n",
        "from sklearn.model_selection import train_test_split\n",
        "\n",
        "X_train, X_test, y_train, y_test = train_test_split(X, y, test_size=0.2, random_state=31416)\n"
      ]
    },
    {
      "cell_type": "code",
      "execution_count": 2,
      "metadata": {},
      "outputs": [],
      "source": [
        "\n",
        "# 0. Set the config so that we can view our preprocessor, and to transform output from numpy arrays to pandas dataframes\n",
        "set_config(display=\"diagram\")\n",
        "set_config(transform_output=\"pandas\")\n",
        "\n",
        "# 1. defining categorical & numerical columns\n",
        "X_cat = X.select_dtypes(exclude=\"number\").copy()\n",
        "X_num = X.select_dtypes(include=\"number\").copy()\n",
        "\n",
        "# 2. numerical pipeline\n",
        "numeric_pipe = make_pipeline(\n",
        "    SimpleImputer(fill_value=None))\n",
        "\n",
        "# 3. categorical pipeline\n",
        "\n",
        "# Step 1: Defining ordinal & onehot columns\n",
        "ordinal_cols = [\n",
        "    'Street', 'ExterQual', 'ExterCond', 'BsmtQual', 'BsmtCond', 'BsmtExposure', 'KitchenQual', 'FireplaceQu', \n",
        "    'Functional', 'PoolQC', 'HeatingQC', 'Alley', 'GarageFinish', 'GarageQual',\n",
        "    'GarageCond', 'PavedDrive', 'Fence', 'SaleCondition'\n",
        "]\n",
        "\n",
        "onehot_cols = [\n",
        "    'MSZoning', 'Condition1', 'Condition2', 'BldgType', 'HouseStyle', 'RoofStyle', 'RoofMatl', \n",
        "    'Exterior1st', 'Exterior2nd', 'MasVnrType', 'Foundation', 'Heating', 'CentralAir', 'Electrical', 'GarageType', 'MiscFeature', 'SaleType', 'LotShape', 'LandContour', \n",
        "    'Utilities', 'LotConfig', 'LandSlope', 'Neighborhood',\n",
        "    'BsmtFinType1', 'BsmtFinType2'\n",
        "]\n",
        "\n",
        "# Step 2: Defining the categorical encoder (with \"N_A\" for missing values)\n",
        "ordinal_categories = [ \n",
        "    ['N_A', 'Grvl', 'Pave'],  # Street\n",
        "    ['N_A', 'Ex', 'Gd', 'TA', 'Fa', 'Po'],  # ExterQual\n",
        "    ['N_A', 'Ex', 'Gd', 'TA', 'Fa', 'Po'],  # ExterCond\n",
        "    ['N_A', 'Ex', 'Gd', 'TA', 'Fa', 'Po'],  # BsmtQual\n",
        "    ['N_A', 'Ex', 'Gd', 'TA', 'Fa', 'Po'],  # BsmtCond\n",
        "    ['N_A', 'Gd', 'Av', 'Mn', 'No'],  # BsmtExposure\n",
        "    ['N_A', 'Ex', 'Gd', 'TA', 'Fa', 'Po'],  # KitchenQual\n",
        "    ['N_A', 'Ex', 'Gd', 'TA', 'Fa', 'Po'],  # FireplaceQu\n",
        "    ['N_A', 'Typ', 'Min1', 'Min2', 'Mod', 'Maj1', 'Maj2', 'Sev', 'Sal'],  # Functional\n",
        "    ['N_A', 'Ex', 'Gd', 'TA', 'Fa', 'Po'],  # PoolQC\n",
        "    ['N_A', 'Ex', 'Gd', 'TA', 'Fa', 'Po'],  # HeatingQC\n",
        "    ['N_A', 'Grvl', 'Pave'],  # Alley\n",
        "    ['N_A', 'Fin', 'RFn', 'Unf'],  # GarageFinish\n",
        "    ['N_A', 'Ex', 'Gd', 'TA', 'Fa', 'Po'],  # GarageQual\n",
        "    ['N_A', 'Ex', 'Gd', 'TA', 'Fa', 'Po'],  # GarageCond\n",
        "    ['N_A', 'Y', 'P', 'N'],  # PavedDrive\n",
        "    ['N_A', 'GdPrv', 'MnPrv', 'GdWo', 'MnWw'],  # Fence\n",
        "    ['N_A', 'Normal', 'Abnorml', 'AdjLand', 'Alloca', 'Family', 'Partial']  # SaleCondition\n",
        "]\n",
        "\n",
        "\n",
        "# Define the categorical encoder for ordinal and one-hot encoding\n",
        "categorical_encoder = ColumnTransformer(\n",
        "    transformers=[\n",
        "        (\"cat_ordinal\", OrdinalEncoder(categories=ordinal_categories), ordinal_cols),\n",
        "        (\"cat_onehot\", OneHotEncoder(handle_unknown=\"ignore\", sparse_output=False), onehot_cols)\n",
        "    ]\n",
        ")\n",
        "\n",
        "# Step 3: Categorical pipeline: \"N_A\" imputer + categorical encoder\n",
        "categorical_pipe = make_pipeline(\n",
        "    SimpleImputer(strategy=\"constant\", fill_value=\"N_A\"),  # Impute missing values with 'N_A' in categorical columns\n",
        "    categorical_encoder\n",
        ")\n",
        "\n",
        "# 4. full preprocessing: a ColumnTransformer with 2 branches: numeric & categorical\n",
        "full_preprocessing = ColumnTransformer(\n",
        "    transformers=[\n",
        "        (\"num_pipe\", numeric_pipe, X_num.columns),\n",
        "        (\"cat_pipe\", categorical_pipe, X_cat.columns),\n",
        "    ]\n",
        ")\n",
        "\n",
        "\n"
      ]
    },
    {
      "cell_type": "markdown",
      "metadata": {},
      "source": [
        "## 2. Modelling (Support Vector Machine)"
      ]
    },
    {
      "cell_type": "code",
      "execution_count": null,
      "metadata": {},
      "outputs": [
        {
          "name": "stdout",
          "output_type": "stream",
          "text": [
            "Fitting 3 folds for each of 162 candidates, totalling 486 fits\n"
          ]
        }
      ],
      "source": [
        "# Build the SVM pipeline\n",
        "full_pipeline_svm = make_pipeline(full_preprocessing,\n",
        "                                  SVC())\n",
        "\n",
        "# Define the parameter grid for SVM (Support Vector Machine)\n",
        "param_grid_svm = {\n",
        "    # Hyperparameters for the numerical pipeline\n",
        "    \"columntransformer__num_pipe__simpleimputer__strategy\": [\"mean\", \"median\", \"constant\"],  # Imputation strategy for numerical data\n",
        "    \"columntransformer__num_pipe__simpleimputer__fill_value\": [10, 0, -1],  # Test different fill values for constant imputation\n",
        "\n",
        "    # Hyperparameters for the Support Vector Machine model\n",
        "    \"svc__C\": [ 0.1, 10, 100],  # Regularization strength\n",
        "    \"svc__kernel\": [\"linear\", \"rbf\", \"poly\"],  # Type of kernel\n",
        "    \"svc__gamma\": [\"scale\", \"auto\"],  # Kernel coefficient for rbf, poly, and sigmoid kernels\n",
        "}\n",
        "\n",
        "# Perform GridSearchCV for hyperparameter tuning\n",
        "search_svm = GridSearchCV(full_pipeline_svm,\n",
        "                          param_grid_svm,\n",
        "                          cv=3,\n",
        "                          verbose=1)\n",
        "\n",
        "# Fit the model\n",
        "search_svm.fit(X_train, y_train)\n",
        "\n",
        "# Print the best hyperparameters and best score\n",
        "print(\"Best Parameters:\", search_svm.best_params_)\n",
        "print(\"Best Score:\", search_svm.best_score_)"
      ]
    },
    {
      "cell_type": "markdown",
      "metadata": {},
      "source": [
        "## 3. Error analysis"
      ]
    },
    {
      "cell_type": "code",
      "execution_count": 8,
      "metadata": {},
      "outputs": [
        {
          "name": "stdout",
          "output_type": "stream",
          "text": [
            "Accuracy on training data: 0.9692\n"
          ]
        }
      ],
      "source": [
        "# Make predictions on the training data\n",
        "y_train_pred = search_svm.predict(X_train)\n",
        "\n",
        "# Calculate accuracy score\n",
        "accuracy = accuracy_score(y_train, y_train_pred)\n",
        "\n",
        "print(f\"Accuracy on training data: {accuracy:.4f}\")"
      ]
    },
    {
      "cell_type": "code",
      "execution_count": 9,
      "metadata": {},
      "outputs": [
        {
          "name": "stdout",
          "output_type": "stream",
          "text": [
            "Accuracy on test data: 0.9418\n"
          ]
        }
      ],
      "source": [
        "# Make predictions on the test data\n",
        "y_test_pred = search_svm.predict(X_test)\n",
        "\n",
        "# Calculate accuracy on test set\n",
        "test_accuracy = accuracy_score(y_test, y_test_pred)\n",
        "\n",
        "print(f\"Accuracy on test data: {test_accuracy:.4f}\")\n"
      ]
    },
    {
      "cell_type": "code",
      "execution_count": 10,
      "metadata": {},
      "outputs": [
        {
          "data": {
            "image/png": "[encoded data removed]",
            "text/plain": [
              "<Figure size 640x480 with 2 Axes>"
            ]
          },
          "metadata": {},
          "output_type": "display_data"
        }
      ],
      "source": [
        "# plot_confusion_matrix(search, X_test, y_test, display_labels=['Not Expensive', 'Expensive']);\n",
        "\n",
        "from sklearn.metrics import ConfusionMatrixDisplay\n",
        "ConfusionMatrixDisplay.from_estimator(search_svm,\n",
        "                                      X_test,\n",
        "                                      y_test,\n",
        "                                      display_labels=['Not Expensive', 'Expensive']);"
      ]
    },
    {
      "cell_type": "code",
      "execution_count": 11,
      "metadata": {},
      "outputs": [],
      "source": [
        "import pandas as pd\n",
        "from sklearn.neighbors import KNeighborsClassifier\n",
        "from sklearn import set_config\n",
        "set_config(transform_output=\"pandas\")\n",
        "\n",
        "\n",
        "url = \"https://drive.google.com/file/d/15PfmTxmavQCT-f7iY9tgwWxm9t4GRees/view?usp=drive_link\"\n",
        "path = 'https://drive.google.com/uc?export=download&id='+url.split('/')[-2]\n",
        "testing_data = pd.read_csv(path)\n",
        "testing_data = testing_data.set_index('Id')"
      ]
    },
    {
      "cell_type": "code",
      "execution_count": 12,
      "metadata": {},
      "outputs": [
        {
          "ename": "AttributeError",
          "evalue": "'dict' object has no attribute 'fit'",
          "output_type": "error",
          "traceback": [
            "\u001b[1;31m---------------------------------------------------------------------------\u001b[0m",
            "\u001b[1;31mAttributeError\u001b[0m                            Traceback (most recent call last)",
            "Cell \u001b[1;32mIn[12], line 1\u001b[0m\n\u001b[1;32m----> 1\u001b[0m param_grid_lr\u001b[38;5;241m.\u001b[39mfit(X, y)\n",
            "\u001b[1;31mAttributeError\u001b[0m: 'dict' object has no attribute 'fit'"
          ]
        }
      ],
      "source": [
        "full_pipeline_svm.fit(X, y)"
      ]
    },
    {
      "cell_type": "code",
      "execution_count": 12,
      "metadata": {},
      "outputs": [
        {
          "data": {
            "text/plain": [
              "array([0, 0, 0, ..., 0, 0, 0], dtype=int64)"
            ]
          },
          "execution_count": 12,
          "metadata": {},
          "output_type": "execute_result"
        }
      ],
      "source": [
        "full_pipeline_svm.predict(testing_data)"
      ]
    },
    {
      "cell_type": "code",
      "execution_count": 13,
      "metadata": {},
      "outputs": [],
      "source": [
        "testing_data['Expensive'] =full_pipeline_svm.predict(testing_data)"
      ]
    },
    {
      "cell_type": "code",
      "execution_count": 14,
      "metadata": {},
      "outputs": [],
      "source": [
        "# Export the column 'Expensive' along with the index to create a submission file\n",
        "testing_data['Expensive'].to_csv('./submission.csv')"
      ]
    },
    {
      "cell_type": "code",
      "execution_count": 15,
      "metadata": {},
      "outputs": [
        {
          "data": {
            "text/plain": [
              "'C:\\\\Users\\\\Aida\\\\OneDrive\\\\Documents\\\\Bootcamp_WBS\\\\Primer\\\\Python\\\\WBS_DATA\\\\8_SUP_ML\\\\Data\\\\submissionkNN01.csv'"
            ]
          },
          "execution_count": 15,
          "metadata": {},
          "output_type": "execute_result"
        }
      ],
      "source": [
        "import shutil\n",
        "\n",
        "# Move or copy the file to a desired location on your machine\n",
        "shutil.copy('./submission.csv', r'C:\\Users\\Aida\\OneDrive\\Documents\\Bootcamp_WBS\\Primer\\Python\\WBS_DATA\\8_SUP_ML\\Data\\submissionSVM01.csv')\n"
      ]
    }
  ],
  "metadata": {
    "colab": {
      "provenance": []
    },
    "kernelspec": {
      "display_name": "base",
      "language": "python",
      "name": "python3"
    },
    "language_info": {
      "codemirror_mode": {
        "name": "ipython",
        "version": 3
      },
      "file_extension": ".py",
      "mimetype": "text/x-python",
      "name": "python",
      "nbconvert_exporter": "python",
      "pygments_lexer": "ipython3",
      "version": "3.12.7"
    }
  },
  "nbformat": 4,
  "nbformat_minor": 0
}
