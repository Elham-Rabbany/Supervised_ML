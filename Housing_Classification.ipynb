{
  "cells": [
    {
      "cell_type": "markdown",
      "metadata": {
        "id": "t8tBn78EmfT3"
      },
      "source": [
        "## Housing project_Classification\n",
        " "
      ]
    },
    {
      "cell_type": "code",
      "execution_count": 2,
      "metadata": {},
      "outputs": [],
      "source": [
        "import pandas as pd\n",
        "from sklearn.model_selection import train_test_split\n",
        "from sklearn.impute import SimpleImputer\n",
        "from sklearn.tree import DecisionTreeClassifier\n",
        "from sklearn.metrics import accuracy_score\n",
        "from sklearn.pipeline import make_pipeline\n",
        "from sklearn.preprocessing import OneHotEncoder\n",
        "from sklearn.compose import ColumnTransformer, make_column_transformer\n",
        "from sklearn.preprocessing import OrdinalEncoder\n",
        "from sklearn import set_config\n",
        "import pandas as pd\n",
        "\n",
        "path = r\"C:\\Users\\Aida\\OneDrive\\Documents\\Bootcamp_WBS\\Primer\\Python\\WBS_DATA\\8_SUP_ML\\Data\\housing_iteration_4_classification.csv\"\n",
        "data = pd.read_csv(path)\n",
        "data.head(10)\n",
        "\n",
        "\n",
        "# X: All columns except 'Expensive' (features)\n",
        "X = data.drop(columns=['Expensive'])\n",
        "\n",
        "# y: The 'Expensive' column (target)\n",
        "y = data['Expensive']\n",
        "\n",
        "# data splitting\n",
        "from sklearn.model_selection import train_test_split\n",
        "\n",
        "X_train, X_test, y_train, y_test = train_test_split(X, y, test_size=0.2, random_state=31416)"
      ]
    },
    {
      "cell_type": "code",
      "execution_count": null,
      "metadata": {},
      "outputs": [],
      "source": [
        "# 0. Set the config so that we can view our preprocessor, and to transform output from numpy arrays to pandas dataframes\n",
        "set_config(display=\"diagram\")\n",
        "set_config(transform_output=\"pandas\")\n",
        "\n",
        "# 1. defining categorical & numerical columns\n",
        "X_cat = X.select_dtypes(exclude=\"number\").copy()\n",
        "X_num = X.select_dtypes(include=\"number\").copy()\n",
        "\n",
        "# 2. numerical pipeline\n",
        "numeric_pipe = make_pipeline(\n",
        "    SimpleImputer(fill_value=None))\n",
        "\n",
        "# 3. categorical pipeline\n",
        "\n",
        "# # 3.1 defining ordinal & onehot columns\n",
        "# .get_indexer() get's the index to solve the problem described above about losing column names\n",
        "ordinal_cols = [\"Street\", \"ExterQual\", \"ExterCond\", \"BsmtQual\", \"BsmtCond\",\"BsmtExposure\", \"KitchenQual\", \"FireplaceQu\"]\n",
        "onehot_cols = [\"MSZoning\", \"Condition1\", \"Heating\", \"CentralAir\", \"Foundation\"]\n",
        "\n",
        "# # 3.2. defining the categorical encoder\n",
        "\n",
        "# # # 3.2.1. we manually establish the order of the categories for our ordinal feature (Cabin), including \"N_A\"\n",
        "# Define the category orders for ordinal features\n",
        "ordinal_categories = [\n",
        "    ['N_A', 'Grvl', 'Pave'],  # Street\n",
        "    ['N_A','Po', 'Fa', 'TA', 'Gd', 'Ex'],  # ExterQual\n",
        "    ['N_A','Po', 'Fa', 'TA', 'Gd', 'Ex'],  # ExterCond\n",
        "    ['N_A','NA', 'Po', 'Fa', 'TA', 'Gd', 'Ex'],  # BsmtQual\n",
        "    ['N_A','NA', 'Po', 'Fa', 'TA', 'Gd', 'Ex'],  # BsmtCond\n",
        "    ['N_A','NA', 'No', 'Mn', 'Av', 'Gd'],  # BsmtExposure\n",
        "    ['N_A','Po', 'Fa', 'TA', 'Gd', 'Ex'],  # KitchenQual\n",
        "    ['N_A','NA', 'Po', 'Fa', 'TA', 'Gd', 'Ex']  # FireplaceQu\n",
        "]   \n",
        "# # # 3.2.2. defining the categorical encoder: a ColumnTransformer with 2 branches: ordinal & onehot\n",
        "\n",
        "from sklearn.preprocessing import OrdinalEncoder, OneHotEncoder\n",
        "\n",
        "categorical_encoder = ColumnTransformer(\n",
        "    transformers=[\n",
        "        (\"cat_ordinal\", OrdinalEncoder(categories=ordinal_categories), ordinal_cols),\n",
        "        (\"cat_onehot\", OneHotEncoder(handle_unknown=\"ignore\", sparse_output=False), onehot_cols)\n",
        "    ]\n",
        ")\n",
        "\n",
        "\n",
        "# # 3.3. categorical pipeline = \"N_A\" imputer + categorical encoder\n",
        "categorical_pipe = make_pipeline(SimpleImputer(strategy=\"constant\", fill_value=\"N_A\"),\n",
        "                                 categorical_encoder\n",
        "                                )\n",
        "\n",
        "# 4. full preprocessing: a ColumnTransformer with 2 branches: numeric & categorical\n",
        "full_preprocessing = ColumnTransformer(\n",
        "    transformers=[\n",
        "        (\"num_pipe\", numeric_pipe, X_num.columns),\n",
        "        (\"cat_pipe\", categorical_pipe, X_cat.columns),\n",
        "    ]\n",
        ")\n",
        "full_preprocessing"
      ]
    },
    {
      "cell_type": "code",
      "execution_count": 4,
      "metadata": {},
      "outputs": [
        {
          "name": "stdout",
          "output_type": "stream",
          "text": [
            "Fitting 5 folds for each of 567 candidates, totalling 2835 fits\n",
            "Best Parameters: {'columntransformer__num_pipe__simpleimputer__fill_value': 0, 'columntransformer__num_pipe__simpleimputer__strategy': 'median', 'decisiontreeclassifier__max_depth': 6, 'decisiontreeclassifier__min_samples_leaf': 4}\n",
            "Best Score: 0.9255053006125967\n"
          ]
        }
      ],
      "source": [
        "from sklearn.model_selection import GridSearchCV\n",
        "\n",
        "# full pipeline: preprocessor + model\n",
        "full_pipeline = make_pipeline(full_preprocessing,\n",
        "                              DecisionTreeClassifier())\n",
        "\n",
        "# define parameter grid\n",
        "param_grid = {\n",
        "    \"columntransformer__num_pipe__simpleimputer__strategy\":[\"mean\", \"median\", \"constant\"],\n",
        "    \"columntransformer__num_pipe__simpleimputer__fill_value\": [10, 0, -1],\n",
        "    \"decisiontreeclassifier__max_depth\": range(2, 20, 2),\n",
        "    \"decisiontreeclassifier__min_samples_leaf\": range(2, 15, 2)\n",
        "}\n",
        "\n",
        "# define GridSearchCV\n",
        "search = GridSearchCV(full_pipeline,\n",
        "                      param_grid,\n",
        "                      cv=5,\n",
        "                      verbose=1)\n",
        "\n",
        "search.fit(X_train, y_train)\n",
        "\n",
        "print(\"Best Parameters:\", search.best_params_)\n",
        "print(\"Best Score:\", search.best_score_)"
      ]
    },
    {
      "cell_type": "code",
      "execution_count": 6,
      "metadata": {},
      "outputs": [
        {
          "name": "stdout",
          "output_type": "stream",
          "text": [
            "Accuracy on training data: 0.9503\n"
          ]
        }
      ],
      "source": [
        "# Make predictions on the training data\n",
        "y_train_pred = search.predict(X_train)\n",
        "\n",
        "# Calculate accuracy score\n",
        "accuracy = accuracy_score(y_train, y_train_pred)\n",
        "\n",
        "print(f\"Accuracy on training data: {accuracy:.4f}\")"
      ]
    },
    {
      "cell_type": "code",
      "execution_count": 7,
      "metadata": {},
      "outputs": [
        {
          "name": "stdout",
          "output_type": "stream",
          "text": [
            "Accuracy on test data: 0.9349\n"
          ]
        }
      ],
      "source": [
        "# Make predictions on the test data\n",
        "y_test_pred = search.predict(X_test)\n",
        "\n",
        "# Calculate accuracy on test set\n",
        "test_accuracy = accuracy_score(y_test, y_test_pred)\n",
        "\n",
        "print(f\"Accuracy on test data: {test_accuracy:.4f}\")\n"
      ]
    }
  ],
  "metadata": {
    "colab": {
      "provenance": []
    },
    "kernelspec": {
      "display_name": "base",
      "language": "python",
      "name": "python3"
    },
    "language_info": {
      "codemirror_mode": {
        "name": "ipython",
        "version": 3
      },
      "file_extension": ".py",
      "mimetype": "text/x-python",
      "name": "python",
      "nbconvert_exporter": "python",
      "pygments_lexer": "ipython3",
      "version": "3.12.7"
    }
  },
  "nbformat": 4,
  "nbformat_minor": 0
}
